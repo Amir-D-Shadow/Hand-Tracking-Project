{
  "nbformat": 4,
  "nbformat_minor": 0,
  "metadata": {
    "colab": {
      "name": "hand_gesture_recognition.ipynb",
      "provenance": [],
      "collapsed_sections": [],
      "toc_visible": true
    },
    "kernelspec": {
      "name": "python3",
      "display_name": "Python 3"
    },
    "accelerator": "GPU"
  },
  "cells": [
    {
      "cell_type": "code",
      "metadata": {
        "id": "kZjsHTSWOfbc"
      },
      "source": [
        "import pandas as pd\n",
        "import numpy as np\n",
        "import matplotlib.pyplot as plt\n",
        "import keras\n",
        "from keras.models import Sequential\n",
        "from keras.layers import Dense, Conv2D , MaxPool2D , Flatten , Dropout , BatchNormalization\n",
        "from keras.preprocessing.image import ImageDataGenerator\n",
        "from sklearn.preprocessing import LabelBinarizer\n",
        "from sklearn.model_selection import train_test_split\n",
        "from sklearn.metrics import classification_report,confusion_matrix\n",
        "from keras.callbacks import ReduceLROnPlateau"
      ],
      "execution_count": 1,
      "outputs": []
    },
    {
      "cell_type": "code",
      "metadata": {
        "colab": {
          "base_uri": "https://localhost:8080/"
        },
        "id": "JNDCsN5oLMe_",
        "outputId": "6710b03e-dda6-4007-8a8c-9b3b6b430d2b"
      },
      "source": [
        "from google.colab import drive\n",
        "drive.mount('/content/drive')"
      ],
      "execution_count": 2,
      "outputs": [
        {
          "output_type": "stream",
          "text": [
            "Drive already mounted at /content/drive; to attempt to forcibly remount, call drive.mount(\"/content/drive\", force_remount=True).\n"
          ],
          "name": "stdout"
        }
      ]
    },
    {
      "cell_type": "code",
      "metadata": {
        "id": "Grnhsu-GOr5y"
      },
      "source": [
        "#load data\n",
        "data_test=pd.read_csv(\"https://raw.githubusercontent.com/VinitaSilaparasetty/hand-gesture-recognition/main/sign_mnist_test.csv\")\n",
        "data_train=pd.read_csv(\"/content/drive/MyDrive/sign_mnist_train.csv\")"
      ],
      "execution_count": 3,
      "outputs": []
    },
    {
      "cell_type": "code",
      "metadata": {
        "id": "4m7Ibhlg40vA",
        "outputId": "e763eaf8-41ae-4dfb-9d84-ea732ab6f73a",
        "colab": {
          "base_uri": "https://localhost:8080/",
          "height": 281
        }
      },
      "source": [
        "def show_img(img,df):\n",
        "  label = data_test['label'][img]\n",
        "  pixels =data_test.iloc[img,1:]\n",
        "  pixels = np.array(pixels,dtype=\"uint8\")\n",
        "  pixels = pixels.reshape((28,28))\n",
        "\n",
        "  plt.title('Label is {label}'.format(label=label))\n",
        "  plt.imshow(pixels,cmap='gray')\n",
        "  plt.show()\n",
        "\n",
        "data_test.head()\n",
        "show_img(20,data_test)\n",
        "\n",
        "#extract label\n",
        "y_train = data_train['label']\n",
        "y_test = data_test[\"label\"]\n",
        "del data_train[\"label\"]\n",
        "del data_test[\"label\"]\n",
        "\n",
        "#label Binarizer\n",
        "label_binarizer = LabelBinarizer()\n",
        "\n",
        "y_train = label_binarizer.fit_transform(y_train)\n",
        "y_test = label_binarizer.fit_transform(y_test)\n",
        "\n",
        "x_train = data_train.values\n",
        "x_test = data_test.values\n",
        "\n",
        "#Normalization\n",
        "x_train=x_train/255\n",
        "x_test=x_test/255\n",
        "\n",
        "x_train=x_train.reshape(-1,28,28,1)\n",
        "x_test = x_test.reshape(-1,28,28,1)\n"
      ],
      "execution_count": 4,
      "outputs": [
        {
          "output_type": "display_data",
          "data": {
            "image/png": "[encoded data removed]",
            "text/plain": [
              "<Figure size 432x288 with 1 Axes>"
            ]
          },
          "metadata": {
            "tags": [],
            "needs_background": "light"
          }
        }
      ]
    },
    {
      "cell_type": "code",
      "metadata": {
        "id": "4ghahNYT79ZX"
      },
      "source": [
        "data_generator = ImageDataGenerator(\n",
        "    featurewise_center=False,\n",
        "    samplewise_center=False,\n",
        "    featurewise_std_normalization=False,\n",
        "    samplewise_std_normalization=False,\n",
        "    zca_whitening=False,\n",
        "    rotation_range=10,\n",
        "    zoom_range=0.1,\n",
        "    width_shift_range=0.1,\n",
        "    height_shift_range=0.1,\n",
        "    horizontal_flip=False,\n",
        "    vertical_flip=False)\n"
      ],
      "execution_count": 5,
      "outputs": []
    },
    {
      "cell_type": "code",
      "metadata": {
        "id": "7GDDRKkTRgcb"
      },
      "source": [
        "model = Sequential()\n",
        "model.add(Conv2D(75,(3,3),strides=1,padding=\"same\",activation=\"relu\",input_shape=(28,28,1)))\n",
        "model.add(BatchNormalization())\n",
        "model.add(MaxPool2D((2,2),strides=2,padding=\"same\"))\n",
        "model.add(Conv2D(50,(3,3),strides=1,padding=\"same\",activation=\"relu\"))\n",
        "model.add(Dropout(0.2))\n",
        "model.add(BatchNormalization())\n",
        "model.add(MaxPool2D((2,2),strides=2,padding=\"same\"))\n",
        "model.add(Conv2D(25,(3,3),strides=1,padding=\"same\",activation=\"relu\"))\n",
        "model.add(BatchNormalization())\n",
        "model.add(MaxPool2D((2,2),strides=2,padding=\"same\"))\n",
        "model.add(Flatten())\n",
        "model.add(Dense(units=512,activation=\"relu\"))\n",
        "model.add(Dropout(0.3))\n",
        "model.add(Dense(units=24,activation=\"softmax\"))"
      ],
      "execution_count": 6,
      "outputs": []
    },
    {
      "cell_type": "code",
      "metadata": {
        "id": "k3jQ_kV35UQf"
      },
      "source": [
        "model.compile(optimizer=\"adam\",loss = \"categorical_crossentropy\",metrics=['accuracy'])"
      ],
      "execution_count": 7,
      "outputs": []
    },
    {
      "cell_type": "code",
      "metadata": {
        "id": "rc156Ydy5gtV"
      },
      "source": [
        "learning_rate_reduction = ReduceLROnPlateau(monitor='val_accuracy',patience=2,verbose=1,factor=0.5,min_lr=0.00001)"
      ],
      "execution_count": 8,
      "outputs": []
    },
    {
      "cell_type": "code",
      "metadata": {
        "id": "iRNFc_GuU3Vo",
        "outputId": "257fb5c0-d6e0-4d45-eea8-b2c8497d1d1b",
        "colab": {
          "base_uri": "https://localhost:8080/"
        }
      },
      "source": [
        "model.fit(data_generator.flow(x_train,y_train,batch_size=128),epochs=20,validation_data=(x_test,y_test),callbacks=[learning_rate_reduction])"
      ],
      "execution_count": 9,
      "outputs": [
        {
          "output_type": "stream",
          "text": [
            "Epoch 1/20\n",
            "38/38 [==============================] - 6s 64ms/step - loss: 3.1462 - accuracy: 0.1474 - val_loss: 3.1899 - val_accuracy: 0.0602\n",
            "Epoch 2/20\n",
            "38/38 [==============================] - 2s 49ms/step - loss: 3.2409 - accuracy: 0.0475 - val_loss: 3.2015 - val_accuracy: 0.0602\n",
            "Epoch 3/20\n",
            "38/38 [==============================] - 2s 51ms/step - loss: 3.2070 - accuracy: 0.0345 - val_loss: 3.2146 - val_accuracy: 0.0602\n",
            "\n",
            "Epoch 00003: ReduceLROnPlateau reducing learning rate to 0.0005000000237487257.\n",
            "Epoch 4/20\n",
            "38/38 [==============================] - 2s 49ms/step - loss: 3.1818 - accuracy: 0.0420 - val_loss: 3.2319 - val_accuracy: 0.0602\n",
            "Epoch 5/20\n",
            "38/38 [==============================] - 2s 52ms/step - loss: 3.1768 - accuracy: 0.0404 - val_loss: 3.2695 - val_accuracy: 0.0602\n",
            "\n",
            "Epoch 00005: ReduceLROnPlateau reducing learning rate to 0.0002500000118743628.\n",
            "Epoch 6/20\n",
            "38/38 [==============================] - 2s 49ms/step - loss: 3.1774 - accuracy: 0.0372 - val_loss: 3.3231 - val_accuracy: 0.0602\n",
            "Epoch 7/20\n",
            "38/38 [==============================] - 2s 50ms/step - loss: 3.1772 - accuracy: 0.0490 - val_loss: 3.3997 - val_accuracy: 0.0602\n",
            "\n",
            "Epoch 00007: ReduceLROnPlateau reducing learning rate to 0.0001250000059371814.\n",
            "Epoch 8/20\n",
            "38/38 [==============================] - 2s 50ms/step - loss: 3.1768 - accuracy: 0.0486 - val_loss: 3.4961 - val_accuracy: 0.0602\n",
            "Epoch 9/20\n",
            "38/38 [==============================] - 2s 49ms/step - loss: 3.1774 - accuracy: 0.0450 - val_loss: 3.5996 - val_accuracy: 0.0602\n",
            "\n",
            "Epoch 00009: ReduceLROnPlateau reducing learning rate to 6.25000029685907e-05.\n",
            "Epoch 10/20\n",
            "38/38 [==============================] - 2s 50ms/step - loss: 3.1769 - accuracy: 0.0496 - val_loss: 3.7377 - val_accuracy: 0.0602\n",
            "Epoch 11/20\n",
            "38/38 [==============================] - 2s 50ms/step - loss: 3.1793 - accuracy: 0.0412 - val_loss: 3.8973 - val_accuracy: 0.0602\n",
            "\n",
            "Epoch 00011: ReduceLROnPlateau reducing learning rate to 3.125000148429535e-05.\n",
            "Epoch 12/20\n",
            "38/38 [==============================] - 2s 51ms/step - loss: 3.1769 - accuracy: 0.0406 - val_loss: 4.0614 - val_accuracy: 0.0602\n",
            "Epoch 13/20\n",
            "38/38 [==============================] - 2s 50ms/step - loss: 3.1770 - accuracy: 0.0434 - val_loss: 4.2326 - val_accuracy: 0.0602\n",
            "\n",
            "Epoch 00013: ReduceLROnPlateau reducing learning rate to 1.5625000742147677e-05.\n",
            "Epoch 14/20\n",
            "38/38 [==============================] - 2s 50ms/step - loss: 3.1767 - accuracy: 0.0550 - val_loss: 4.3796 - val_accuracy: 0.0602\n",
            "Epoch 15/20\n",
            "38/38 [==============================] - 2s 51ms/step - loss: 3.1769 - accuracy: 0.0424 - val_loss: 4.4790 - val_accuracy: 0.0602\n",
            "\n",
            "Epoch 00015: ReduceLROnPlateau reducing learning rate to 1e-05.\n",
            "Epoch 16/20\n",
            "38/38 [==============================] - 2s 51ms/step - loss: 3.1780 - accuracy: 0.0429 - val_loss: 4.5224 - val_accuracy: 0.0402\n",
            "Epoch 17/20\n",
            "38/38 [==============================] - 2s 49ms/step - loss: 3.1775 - accuracy: 0.0456 - val_loss: 4.5421 - val_accuracy: 0.0402\n",
            "Epoch 18/20\n",
            "38/38 [==============================] - 2s 49ms/step - loss: 3.1777 - accuracy: 0.0429 - val_loss: 4.5310 - val_accuracy: 0.0402\n",
            "Epoch 19/20\n",
            "38/38 [==============================] - 2s 49ms/step - loss: 3.1767 - accuracy: 0.0462 - val_loss: 4.5006 - val_accuracy: 0.0402\n",
            "Epoch 20/20\n",
            "38/38 [==============================] - 2s 50ms/step - loss: 3.1773 - accuracy: 0.0423 - val_loss: 4.4623 - val_accuracy: 0.0402\n"
          ],
          "name": "stdout"
        },
        {
          "output_type": "execute_result",
          "data": {
            "text/plain": [
              "<tensorflow.python.keras.callbacks.History at 0x7f8f19557310>"
            ]
          },
          "metadata": {
            "tags": []
          },
          "execution_count": 9
        }
      ]
    },
    {
      "cell_type": "code",
      "metadata": {
        "id": "xhzaNjYQZp-v",
        "outputId": "d8edd37f-8ef1-4275-9314-b14eec9460d0",
        "colab": {
          "base_uri": "https://localhost:8080/"
        }
      },
      "source": [
        "model.evaluate(x_test,y_test)"
      ],
      "execution_count": 10,
      "outputs": [
        {
          "output_type": "stream",
          "text": [
            "225/225 [==============================] - 1s 3ms/step - loss: 4.4623 - accuracy: 0.0402\n"
          ],
          "name": "stdout"
        },
        {
          "output_type": "execute_result",
          "data": {
            "text/plain": [
              "[4.462268829345703, 0.04015616327524185]"
            ]
          },
          "metadata": {
            "tags": []
          },
          "execution_count": 10
        }
      ]
    },
    {
      "cell_type": "code",
      "metadata": {
        "id": "VAjiHxsPZwUW",
        "outputId": "fb5b5353-7574-47d8-d032-126e8edf1232",
        "colab": {
          "base_uri": "https://localhost:8080/"
        }
      },
      "source": [
        "predictions = model.predict_classes(x_test)\n",
        "for i in range(len(predictions)):\n",
        "  if(predictions[i]>=9 or predictions[i]>=25):\n",
        "    predictions[i] += 1\n",
        "\n",
        "predictions[:5]"
      ],
      "execution_count": 12,
      "outputs": [
        {
          "output_type": "stream",
          "text": [
            "/usr/local/lib/python3.7/dist-packages/tensorflow/python/keras/engine/sequential.py:450: UserWarning: `model.predict_classes()` is deprecated and will be removed after 2021-01-01. Please use instead:* `np.argmax(model.predict(x), axis=-1)`,   if your model does multi-class classification   (e.g. if it uses a `softmax` last-layer activation).* `(model.predict(x) > 0.5).astype(\"int32\")`,   if your model does binary classification   (e.g. if it uses a `sigmoid` last-layer activation).\n",
            "  warnings.warn('`model.predict_classes()` is deprecated and '\n"
          ],
          "name": "stderr"
        },
        {
          "output_type": "execute_result",
          "data": {
            "text/plain": [
              "array([8, 8, 8, 8, 8])"
            ]
          },
          "metadata": {
            "tags": []
          },
          "execution_count": 12
        }
      ]
    },
    {
      "cell_type": "code",
      "metadata": {
        "id": "BOz4f9z0dzNn"
      },
      "source": [
        "#save model \n",
        "#model.save(\"hand-gesture.h5\")"
      ],
      "execution_count": null,
      "outputs": []
    }
  ]
}