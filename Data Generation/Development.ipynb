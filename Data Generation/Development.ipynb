{
 "cells": [
  {
   "cell_type": "code",
   "execution_count": 1,
   "id": "4eca7103",
   "metadata": {},
   "outputs": [],
   "source": [
    "import mediapipe as mp\n",
    "import cv2\n",
    "import numpy as np\n",
    "import uuid\n",
    "import os \n",
    "import time"
   ]
  },
  {
   "cell_type": "code",
   "execution_count": 2,
   "id": "871d5ec7",
   "metadata": {},
   "outputs": [],
   "source": [
    "mp_drawing = mp.solutions.drawing_utils\n",
    "mp_hands = mp.solutions.hands"
   ]
  },
  {
   "cell_type": "code",
   "execution_count": null,
   "id": "54422c45",
   "metadata": {},
   "outputs": [],
   "source": [
    "#Open camera\n",
    "cap = cv2.VideoCapture(0)\n",
    "prev_frame_time = 0\n",
    "new_frame_time = 0\n",
    "\n",
    "with mp_hands.Hands(min_detection_confidence=0.8,min_tracking_confidence=0.5) as hands:\n",
    "\n",
    "    while cap.isOpened():\n",
    "\n",
    "        ret,frame = cap.read()\n",
    "        \n",
    "        #BGR To RGB\n",
    "        image = cv2.cvtColor(frame,cv2.COLOR_BGR2RGB)\n",
    "        \n",
    "        #Set flag\n",
    "        image.flags.writeable = False\n",
    "        \n",
    "        #Detection\n",
    "        results = hands.process(image)\n",
    "        \n",
    "        #Set flags\n",
    "        image.flags.writeable = True\n",
    "        \n",
    "        #RGB to BGR\n",
    "        image = cv2.cvtColor(image,cv2.COLOR_RGB2BGR)\n",
    "        \n",
    "        #Rendering Result\n",
    "        if results.multi_hand_landmarks:\n",
    "            \n",
    "            for num,hand in enumerate(results.multi_hand_landmarks):\n",
    "                \n",
    "                mp_drawing.draw_landmarks(image,hand,mp_hands.HAND_CONNECTIONS)\n",
    "        \n",
    "         # Calculating the fps\n",
    "        font = cv2.FONT_HERSHEY_SIMPLEX\n",
    "        \n",
    "        # time when we finish processing for this frame\n",
    "        new_frame_time = time.time()\n",
    "\n",
    "        # fps will be number of frame processed in given time frame\n",
    "        fps = 1/(new_frame_time-prev_frame_time)\n",
    "        prev_frame_time = new_frame_time\n",
    "\n",
    "        # converting the fps into integer\n",
    "        fps = int(fps)\n",
    "\n",
    "        # converting the fps to string so that we can display it on frame\n",
    "        fps = str(fps)\n",
    "\n",
    "        # puting the FPS count on the frame\n",
    "        cv2.putText(frame, fps, (7, 70), font, 3, (100, 255, 0), 3, cv2.LINE_AA)\n",
    "        \n",
    "        cv2.imshow(\"Hand Tracking\",image)\n",
    "\n",
    "        if (cv2.waitKey(10) & 0xFF)==ord('q'):\n",
    "\n",
    "            break\n",
    "        \n",
    "cap.release()\n",
    "cv2.destroyAllWindows()"
   ]
  },
  {
   "cell_type": "code",
   "execution_count": null,
   "id": "4e065af2",
   "metadata": {},
   "outputs": [],
   "source": []
  }
 ],
 "metadata": {
  "kernelspec": {
   "display_name": "Python 3",
   "language": "python",
   "name": "python3"
  },
  "language_info": {
   "codemirror_mode": {
    "name": "ipython",
    "version": 3
   },
   "file_extension": ".py",
   "mimetype": "text/x-python",
   "name": "python",
   "nbconvert_exporter": "python",
   "pygments_lexer": "ipython3",
   "version": "3.9.4"
  }
 },
 "nbformat": 4,
 "nbformat_minor": 5
}
