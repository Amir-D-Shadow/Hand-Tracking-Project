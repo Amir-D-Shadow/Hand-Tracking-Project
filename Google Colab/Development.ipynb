{
  "nbformat": 4,
  "nbformat_minor": 0,
  "metadata": {
    "colab": {
      "name": "Development.ipynb",
      "provenance": [],
      "collapsed_sections": [],
      "authorship_tag": "ABX9TyM19spF8xKrBmasUIIoo2jq",
      "include_colab_link": true
    },
    "kernelspec": {
      "name": "python3",
      "display_name": "Python 3"
    },
    "language_info": {
      "name": "python"
    },
    "accelerator": "GPU"
  },
  "cells": [
    {
      "cell_type": "markdown",
      "metadata": {
        "id": "view-in-github",
        "colab_type": "text"
      },
      "source": [
        "<a href=\"https://colab.research.google.com/github/Amir-D-Shadow/Google-Colab/blob/main/Development.ipynb\" target=\"_parent\"><img src=\"https://colab.research.google.com/assets/colab-badge.svg\" alt=\"Open In Colab\"/></a>"
      ]
    },
    {
      "cell_type": "code",
      "metadata": {
        "id": "uQKQdph3A3JT"
      },
      "source": [
        "from numba import cuda,float64,int64\n",
        "import numpy as np\n",
        "import math"
      ],
      "execution_count": 1,
      "outputs": []
    },
    {
      "cell_type": "code",
      "metadata": {
        "id": "PeBFQsqZBL32"
      },
      "source": [
        "@cuda.jit(\"float64[:,:,:],float64[:,:,:],float64[:,:,:,:],int64,int64,int64,int64\")\n",
        "def func3D(A,dZ,W,stride,Hlim,Wlim,Clim):\n",
        "\n",
        "  \"\"\"\n",
        "  A -- n_H_prev + 2 * opadH, n_W_prev + 2*opadW,n_C_prev\n",
        "  dZ -- n_H,n_W,n_C\n",
        "  W -- fH,fW,n_C_prev,n_C\n",
        "  \"\"\"\n",
        "\n",
        "  n_H = cuda.threadIdx.y + cuda.blockDim.y * cuda.blockIdx.y\n",
        "  n_W = cuda.threadIdx.x + cuda.blockDim.x * cuda.blockIdx.x\n",
        "  n_C = cuda.threadIdx.z + cuda.blockDim.z * cuda.blockIdx.z\n",
        "\n",
        "  if (n_H < Hlim) and (n_W < Wlim) and (n_C < Clim):\n",
        "\n",
        "    fH,fW,n_C_prev,_ = W.shape\n",
        "\n",
        "    for h in range(fH):\n",
        "\n",
        "      for w in range(fW):\n",
        "\n",
        "        for c in range(n_C_prev):\n",
        "\n",
        "          IMG_H = n_H * stride + h\n",
        "          IMG_W = n_W * stride + w\n",
        "\n",
        "          A[IMG_H,IMG_W,c] = A[IMG_H,IMG_W,c] + W[h,w,c,n_C] * dZ[n_H,n_W,n_C]"
      ],
      "execution_count": 2,
      "outputs": []
    },
    {
      "cell_type": "code",
      "metadata": {
        "colab": {
          "base_uri": "https://localhost:8080/"
        },
        "id": "rNL0z6qOQ1t5",
        "outputId": "02c65e33-733c-40c5-fdca-58ac9ad8ee34"
      },
      "source": [
        "opadH,opadW,stride = 2,2,1\n",
        "m = 2\n",
        "number_of_filters = 1\n",
        "\n",
        "tmp = np.zeros((m,1,1,1)).astype(np.float64)\n",
        "W = np.ones((2,2,1,number_of_filters)).astype(np.float64)\n",
        "dZ = np.ones((m,2,2,number_of_filters)).astype(np.float64)\n",
        "A = np.pad(tmp,((0,0),(opadH,opadH),(opadW,opadW),(0,0)),mode=\"constant\",constant_values=(0,0))\n",
        "\n",
        "m,n_H,n_W,n_C = dZ.shape \n",
        "\n",
        "threadsperblock = (2,2,2)\n",
        "\n",
        "blockspergrid_H = int(math.ceil(n_H/threadsperblock[0]))\n",
        "blockspergrid_W = int(math.ceil(n_W/threadsperblock[1]))\n",
        "blockspergrid_C = int(math.ceil(n_C/threadsperblock[2]))\n",
        "\n",
        "blockspergrid = (blockspergrid_H,blockspergrid_W,blockspergrid_C)\n",
        "W_device = cuda.to_device(W)\n",
        "\n",
        "for i in range(m):\n",
        "\n",
        "  dZ_device = cuda.to_device(dZ[i,:,:,:].copy())\n",
        "  A_device = cuda.to_device(A[i,:,:,:].copy())\n",
        "\n",
        "  func3D[blockspergrid,threadsperblock](A_device,dZ_device,W_device,stride,n_H,n_W,n_C)\n",
        "  cuda.synchronize()\n",
        "  A[i,:,:,:] = A_device.copy_to_host()\n",
        "\n",
        "res = A[:,opadH:-opadH,opadW:-opadW,:]\n",
        "\n",
        "print(res)\n"
      ],
      "execution_count": 3,
      "outputs": [
        {
          "output_type": "stream",
          "text": [
            "[[[[1.]]]\n",
            "\n",
            "\n",
            " [[[1.]]]]\n"
          ],
          "name": "stdout"
        }
      ]
    },
    {
      "cell_type": "code",
      "metadata": {
        "id": "hHMSItj3nW-h"
      },
      "source": [
        "@cuda.jit\n",
        "def test3D(A,B,out,Hlim,Wlim,Clim):\n",
        "\n",
        "  x = cuda.threadIdx.x + cuda.blockDim.x*cuda.blockIdx.x\n",
        "  y = cuda.threadIdx.y + cuda.blockDim.y*cuda.blockIdx.y\n",
        "  z = cuda.threadIdx.z + cuda.blockDim.z*cuda.blockIdx.z\n",
        "\n",
        "  if (x<Hlim) and (y<Wlim) and (z<Clim):\n",
        "\n",
        "    out[x,y,z] = A[x,y,z]*B[x,y,z]"
      ],
      "execution_count": 4,
      "outputs": []
    },
    {
      "cell_type": "code",
      "metadata": {
        "colab": {
          "base_uri": "https://localhost:8080/"
        },
        "id": "ZlFQbhtxoN67",
        "outputId": "8a4d1f4c-7ff9-4701-cceb-ce401d09f26c"
      },
      "source": [
        "opadH,opadW,stride = 2,2,1\n",
        "m = 2\n",
        "number_of_filters = 1\n",
        "\n",
        "A = np.full((3,3,3),6)\n",
        "B = np.full((3,3,3),7)\n",
        "\n",
        "n_H,n_W,n_C = A.shape\n",
        "\n",
        "A_device = cuda.to_device(A)\n",
        "B_device = cuda.to_device(B)\n",
        "out_device = cuda.to_device(np.zeros((3,3,3)))\n",
        "\n",
        "threadsperblock = (2,2,2)\n",
        "\n",
        "blockspergrid_H = int(math.ceil(n_H/threadsperblock[0]))\n",
        "blockspergrid_W = int(math.ceil(n_W/threadsperblock[1]))\n",
        "blockspergrid_C = int(math.ceil(n_C/threadsperblock[2]))\n",
        "\n",
        "blockspergrid = (blockspergrid_H,blockspergrid_W,blockspergrid_C)\n",
        "\n",
        "test3D[blockspergrid,threadsperblock](A_device,B_device,out_device,n_H,n_W,n_C)\n",
        "cuda.synchronize()\n",
        "res = out_device.copy_to_host()\n",
        "print(res)"
      ],
      "execution_count": 5,
      "outputs": [
        {
          "output_type": "stream",
          "text": [
            "[[[42. 42. 42.]\n",
            "  [42. 42. 42.]\n",
            "  [42. 42. 42.]]\n",
            "\n",
            " [[42. 42. 42.]\n",
            "  [42. 42. 42.]\n",
            "  [42. 42. 42.]]\n",
            "\n",
            " [[42. 42. 42.]\n",
            "  [42. 42. 42.]\n",
            "  [42. 42. 42.]]]\n"
          ],
          "name": "stdout"
        }
      ]
    },
    {
      "cell_type": "code",
      "metadata": {
        "id": "xq_E02IazIHS",
        "colab": {
          "base_uri": "https://localhost:8080/"
        },
        "outputId": "85050c8c-b011-4449-f1f5-6d177a0a8ef7"
      },
      "source": [
        "a = np.arange(4).reshape(2,2)\n",
        "b = np.zeros((2,2))\n",
        "\n",
        "c = np.array([a,b,b])\n",
        "k1 = np.rot90(c,1,axes=(0,1))\n",
        "k2 = np.rot90(c,1,axes=(1,2))\n",
        "k3 = np.rot90(c,1,axes=(0,2))\n",
        "print(\"c:\",c,\"\\n\")\n",
        "print(\"k1:\",k1,\"\\n\")\n",
        "print(\"k2:\",k2,\"\\n\")\n",
        "print(\"k3\",k3,\"\\n\")\n"
      ],
      "execution_count": 6,
      "outputs": [
        {
          "output_type": "stream",
          "text": [
            "c: [[[0. 1.]\n",
            "  [2. 3.]]\n",
            "\n",
            " [[0. 0.]\n",
            "  [0. 0.]]\n",
            "\n",
            " [[0. 0.]\n",
            "  [0. 0.]]] \n",
            "\n",
            "k1: [[[2. 3.]\n",
            "  [0. 0.]\n",
            "  [0. 0.]]\n",
            "\n",
            " [[0. 1.]\n",
            "  [0. 0.]\n",
            "  [0. 0.]]] \n",
            "\n",
            "k2: [[[1. 3.]\n",
            "  [0. 2.]]\n",
            "\n",
            " [[0. 0.]\n",
            "  [0. 0.]]\n",
            "\n",
            " [[0. 0.]\n",
            "  [0. 0.]]] \n",
            "\n",
            "k3 [[[1. 0. 0.]\n",
            "  [3. 0. 0.]]\n",
            "\n",
            " [[0. 0. 0.]\n",
            "  [2. 0. 0.]]] \n",
            "\n"
          ],
          "name": "stdout"
        }
      ]
    },
    {
      "cell_type": "code",
      "metadata": {
        "id": "BQXSeDq5ok-p",
        "colab": {
          "base_uri": "https://localhost:8080/"
        },
        "outputId": "b42b5af3-a44d-41ee-c860-c5dd833562e0"
      },
      "source": [
        "opadH,opadW,stride = 2,2,1\n",
        "m = 2\n",
        "number_of_filters = 1\n",
        "\n",
        "dA = np.full((3,3,3),6)\n",
        "B = np.full((3,3,3),7)\n",
        "\n",
        "n_H,n_W,n_C = A.shape\n",
        "\n",
        "A_device = cuda.to_device(A)\n",
        "B_device = cuda.to_device(B)\n",
        "out_device = cuda.to_device(np.zeros((3,3,3)))\n",
        "\n",
        "threadsperblock = (4,4,4)\n",
        "\n",
        "blockspergrid_H = n_H\n",
        "blockspergrid_W = n_W\n",
        "blockspergrid_C = n_C\n",
        "\n",
        "blockspergrid = (blockspergrid_H,blockspergrid_W,blockspergrid_C)\n",
        "\n",
        "test3D[blockspergrid,threadsperblock](A_device,B_device,out_device,n_H,n_W,n_C)\n",
        "cuda.synchronize()\n",
        "res = out_device.copy_to_host()\n",
        "print(res)"
      ],
      "execution_count": 7,
      "outputs": [
        {
          "output_type": "stream",
          "text": [
            "[[[42. 42. 42.]\n",
            "  [42. 42. 42.]\n",
            "  [42. 42. 42.]]\n",
            "\n",
            " [[42. 42. 42.]\n",
            "  [42. 42. 42.]\n",
            "  [42. 42. 42.]]\n",
            "\n",
            " [[42. 42. 42.]\n",
            "  [42. 42. 42.]\n",
            "  [42. 42. 42.]]]\n"
          ],
          "name": "stdout"
        }
      ]
    },
    {
      "cell_type": "code",
      "metadata": {
        "id": "IIdHuunw9fYX"
      },
      "source": [
        "@cuda.jit(\"float64[:,:,:,:],float64[:,:,:,:],float64[:,:,:,:],int64,int64,int64,int64\")\n",
        "def func3D_new(dA_prev,W,dZ,stride,Hlim,Wlim,Clim):\n",
        "    \n",
        "    \"\"\"\n",
        "    dA_prev -- (m,n_H_prev,n_W_prev,n_C_prev)\n",
        "    W -- (fH,fW,n_C_prev,n_C)\n",
        "    dZ -- (m,n_H,n_W,n_C)\n",
        "    \"\"\"\n",
        "    \n",
        "    IMG_H = cuda.threadIdx.x + cuda.blockDim.x * cuda.blockIdx.x\n",
        "    IMG_W = cuda.threadIdx.y + cuda.blockDim.y * cuda.blockIdx.y\n",
        "    IMG_C = cuda.threadIdx.z + cuda.blockDim.z * cuda.blockIdx.z\n",
        "    \n",
        "    if IMG_H<Hlim and IMG_W<Wlim and IMG_C<Clim:\n",
        "        \n",
        "      fH,fW,n_C_prev,_ = W.shape\n",
        "      m,n_H,n_W,n_C = dZ.shape\n",
        "      for i in range(m):\n",
        "        \n",
        "        for h in range(fH):\n",
        "\n",
        "          for w in range(fW):\n",
        "            \n",
        "            for c in range(n_C):\n",
        "\n",
        "              dA_prev[i,IMG_H,IMG_W,IMG_C] = dA_prev[i,IMG_H,IMG_W,IMG_C] + W[h,w,IMG_C,c] * dZ[i,h,w,c]\n",
        "                    "
      ],
      "execution_count": 8,
      "outputs": []
    },
    {
      "cell_type": "code",
      "metadata": {
        "id": "KqFqXgHnBKRv"
      },
      "source": [
        "def zero_padding(img,padH,padW):\n",
        "\n",
        "        \"\"\"\n",
        "        img : numpy array of shape (m, n_H, n_W, n_C) representing a batch of m images\n",
        "        pad : amount of padding around each image on vertical and horizontal dimensions\n",
        "        \"\"\"\n",
        "\n",
        "        return np.pad(img,((0,0),(padH,padH),(padW,padW),(0,0)),mode=\"constant\",constant_values=(0,0))\n",
        "\n",
        "def same_padding(img,stride,fH,fW):\n",
        "    \n",
        "        \"\"\"\n",
        "        img : numpy array of shape (m, n_H, n_W, n_C) representing a batch of m images\n",
        "        fH -- Kernel Size (height)\n",
        "        fW -- Kernel Size (width)\n",
        "        s -- Stride\n",
        "        \"\"\"\n",
        "        n_H, n_W = img.shape[1],img.shape[2]\n",
        "        padH = int(math.ceil(((n_H-1)*stride+fH-n_H)/2))\n",
        "        padW = int(math.ceil(((n_W-1)*stride+fW-n_W)/2))\n",
        "\n",
        "        img_same_pad = zero_padding(img,padH,padW)\n",
        "\n",
        "        return img_same_pad,padH,padW"
      ],
      "execution_count": 9,
      "outputs": []
    },
    {
      "cell_type": "code",
      "metadata": {
        "colab": {
          "base_uri": "https://localhost:8080/"
        },
        "id": "N5Hv3mu-92re",
        "outputId": "3ac65f08-2836-4de4-b6b6-8410d9dd942c"
      },
      "source": [
        "opadH,opadW,stride = 1,1,1\n",
        "m = 1\n",
        "number_of_filters = 1\n",
        "\n",
        "dA_prev = np.full((m,1,1,1),0).astype(np.float64)\n",
        "dA_prev_pad = np.pad(dA_prev,((0,0),(opadH,opadH),(opadW,opadW),(0,0)),mode=\"constant\",constant_values=(0,0))\n",
        "_,n_H_prev,n_W_prev,n_C_prev = dA_prev_pad.shape\n",
        "\n",
        "W = np.full((2,2,1,number_of_filters),1).astype(np.float64)\n",
        "fH,fW,n_C_prev,n_C = W.shape\n",
        "\n",
        "n_H = int((n_H_prev-fH+2*opadH)/stride)+1\n",
        "n_W = int((n_W_prev-fW+2*opadW)/stride)+1\n",
        "dZ = np.full((m,n_H,n_W,n_C),1).astype(np.float64)\n",
        "\n",
        "\n",
        "\n",
        "threadsperblock = (2,2,2)\n",
        "\n",
        "blockspergrid_H = int(math.ceil(n_H_prev/threadsperblock[0]))\n",
        "blockspergrid_W = int(math.ceil(n_W_prev/threadsperblock[1]))\n",
        "blockspergrid_C = int(math.ceil(n_C_prev/threadsperblock[2]))\n",
        "\n",
        "blockspergrid = (blockspergrid_H,blockspergrid_W,blockspergrid_C)\n",
        "\n",
        "dA_prev_pad_device = cuda.to_device(dA_prev_pad)\n",
        "dZ_device = cuda.to_device(dZ)\n",
        "W_device = cuda.to_device(W)\n",
        "cuda.synchronize()\n",
        "    \n",
        "func3D_new[blockspergrid,threadsperblock](dA_prev_pad_device,W_device,dZ_device,stride,n_H_prev,n_W_prev,n_C_prev)\n",
        "cuda.synchronize()\n",
        "    \n",
        "    \n",
        "dA_prev_pad = dA_prev_pad_device.copy_to_host()   \n",
        "dA_prev = dA_prev_pad[:,opadH:-opadH,opadW:-opadW,:] \n",
        "\n",
        "print(dA_prev_pad.shape)\n",
        "print(dA_prev)\n",
        "\n",
        "print(dA_prev_pad)"
      ],
      "execution_count": 10,
      "outputs": [
        {
          "output_type": "stream",
          "text": [
            "(1, 3, 3, 1)\n",
            "[[[[4.]]]]\n",
            "[[[[4.]\n",
            "   [4.]\n",
            "   [4.]]\n",
            "\n",
            "  [[4.]\n",
            "   [4.]\n",
            "   [4.]]\n",
            "\n",
            "  [[4.]\n",
            "   [4.]\n",
            "   [4.]]]]\n"
          ],
          "name": "stdout"
        }
      ]
    },
    {
      "cell_type": "code",
      "metadata": {
        "id": "S8m137oaGoD8"
      },
      "source": [
        "@cuda.jit\n",
        "def add(dA_prev,Hlim,Wlim,Clim):\n",
        "\n",
        "    IMG_H = cuda.threadIdx.x + cuda.blockDim.x * cuda.blockIdx.x\n",
        "    IMG_W = cuda.threadIdx.y + cuda.blockDim.y * cuda.blockIdx.y\n",
        "    IMG_C = cuda.threadIdx.z + cuda.blockDim.z * cuda.blockIdx.z\n",
        "\n",
        "    if IMG_H<Hlim and IMG_W<Wlim and IMG_C<Clim:\n",
        "\n",
        "      m = dA_prev.shape[0]\n",
        "\n",
        "      for i in range(m):\n",
        "\n",
        "        dA_prev[i,IMG_H,IMG_W,IMG_C] = dA_prev[i,IMG_H,IMG_W,IMG_C] + 10\n"
      ],
      "execution_count": 11,
      "outputs": []
    },
    {
      "cell_type": "code",
      "metadata": {
        "colab": {
          "base_uri": "https://localhost:8080/"
        },
        "id": "c_UzDU4jG_bH",
        "outputId": "2eb935fe-c3a7-4d20-f688-4c137d6d7603"
      },
      "source": [
        "dA_prev = np.full((2,2,2,2),0)\n",
        "\n",
        "m,n_H_prev,n_W_prev,n_C_prev = dA_prev.shape\n",
        "\n",
        "threadsperblock = (2,2,2)\n",
        "\n",
        "blockspergrid_H = int(math.ceil(n_H_prev/threadsperblock[0]))\n",
        "blockspergrid_W = int(math.ceil(n_W_prev/threadsperblock[1]))\n",
        "blockspergrid_C = int(math.ceil(n_C_prev/threadsperblock[2]))\n",
        "\n",
        "blockspergrid = (blockspergrid_H,blockspergrid_W,blockspergrid_C)\n",
        "\n",
        "dA_prev_device = cuda.to_device(dA_prev)\n",
        "cuda.synchronize()\n",
        "\n",
        "add[blockspergrid,threadsperblock](dA_prev_device,n_H_prev,n_W_prev,n_C_prev)\n",
        "\n",
        "dA_prev = dA_prev_device.copy_to_host()\n",
        "print(dA_prev)"
      ],
      "execution_count": 12,
      "outputs": [
        {
          "output_type": "stream",
          "text": [
            "[[[[10 10]\n",
            "   [10 10]]\n",
            "\n",
            "  [[10 10]\n",
            "   [10 10]]]\n",
            "\n",
            "\n",
            " [[[10 10]\n",
            "   [10 10]]\n",
            "\n",
            "  [[10 10]\n",
            "   [10 10]]]]\n"
          ],
          "name": "stdout"
        }
      ]
    },
    {
      "cell_type": "code",
      "metadata": {
        "colab": {
          "base_uri": "https://localhost:8080/"
        },
        "id": "FgP6b5gCeody",
        "outputId": "f7d29bd7-a1b2-40b0-860a-1213b565f4dc"
      },
      "source": [
        "nH = 5\n",
        "nW = 5\n",
        "\n",
        "array = np.arange(25).reshape(5,5)\n",
        "sum = np.zeros_like(array)\n",
        "\n",
        "#get n_h tail\n",
        "n_h_tail = nH - 1\n",
        "\n",
        "for n_h in range(nH):\n",
        "\n",
        "  if n_h > n_h_tail:\n",
        "\n",
        "    break\n",
        "\n",
        "  #get n_w tail\n",
        "  n_w_tail = nW - 1\n",
        "\n",
        "  for n_w in range(nW):\n",
        "    \n",
        "    if n_w > n_w_tail:\n",
        "\n",
        "      break\n",
        "\n",
        "    if (n_w == n_w_tail) and (n_h_tail == n_h):\n",
        "\n",
        "      sum[n_h,n_w] = sum[n_h,n_w] + array[n_h,n_w]\n",
        "\n",
        "    else:\n",
        "\n",
        "      #calculate head \n",
        "      sum[n_h,n_w] = sum[n_h,n_w] + array[n_h,n_w]\n",
        "\n",
        "      #calculate tail\n",
        "      sum[n_h_tail,n_w_tail] = sum[n_h_tail,n_w_tail] + array[n_h_tail,n_w_tail]\n",
        "      \n",
        "    n_w_tail = n_w_tail - 1\n",
        "\n",
        "  n_h_tail = n_h_tail - 1\n",
        "\n",
        "print(array)\n",
        "print(\"\\n\")\n",
        "print(sum)"
      ],
      "execution_count": 13,
      "outputs": [
        {
          "output_type": "stream",
          "text": [
            "[[ 0  1  2  3  4]\n",
            " [ 5  6  7  8  9]\n",
            " [10 11 12 13 14]\n",
            " [15 16 17 18 19]\n",
            " [20 21 22 23 24]]\n",
            "\n",
            "\n",
            "[[ 0  1  2  0  0]\n",
            " [ 5  6  7  0  0]\n",
            " [10 11 12 13 14]\n",
            " [ 0  0 17 18 19]\n",
            " [ 0  0 22 23 24]]\n"
          ],
          "name": "stdout"
        }
      ]
    },
    {
      "cell_type": "code",
      "metadata": {
        "colab": {
          "base_uri": "https://localhost:8080/"
        },
        "id": "Ha6KcwbuikoF",
        "outputId": "6464297e-8f18-4639-c95b-800ca46a36de"
      },
      "source": [
        "nH = 5\n",
        "nW = 5\n",
        "\n",
        "array = np.arange(25).reshape(5,5)\n",
        "sum = np.zeros_like(array)\n",
        "\n",
        "\n",
        "for n_h in range(nH):\n",
        "\n",
        "  #get n_w tail\n",
        "  n_w_tail = nW - 1\n",
        "\n",
        "  for n_w in range(nW):\n",
        "    \n",
        "    if n_w > n_w_tail:\n",
        "\n",
        "      break\n",
        "\n",
        "    if (n_w == n_w_tail):\n",
        "\n",
        "      sum[n_h,n_w] = sum[n_h,n_w] + array[n_h,n_w]\n",
        "\n",
        "    else:\n",
        "\n",
        "      #calculate head \n",
        "      sum[n_h,n_w] = sum[n_h,n_w] + array[n_h,n_w]\n",
        "\n",
        "      #calculate tail\n",
        "      sum[n_h,n_w_tail] = sum[n_h,n_w_tail] + array[n_h,n_w_tail]\n",
        "      \n",
        "    n_w_tail = n_w_tail - 1\n",
        "\n",
        "\n",
        "print(array)\n",
        "print(\"\\n\")\n",
        "print(sum)"
      ],
      "execution_count": 14,
      "outputs": [
        {
          "output_type": "stream",
          "text": [
            "[[ 0  1  2  3  4]\n",
            " [ 5  6  7  8  9]\n",
            " [10 11 12 13 14]\n",
            " [15 16 17 18 19]\n",
            " [20 21 22 23 24]]\n",
            "\n",
            "\n",
            "[[ 0  1  2  3  4]\n",
            " [ 5  6  7  8  9]\n",
            " [10 11 12 13 14]\n",
            " [15 16 17 18 19]\n",
            " [20 21 22 23 24]]\n"
          ],
          "name": "stdout"
        }
      ]
    },
    {
      "cell_type": "code",
      "metadata": {
        "colab": {
          "base_uri": "https://localhost:8080/"
        },
        "id": "oRwLmP-Dir_7",
        "outputId": "067fd63b-b94e-4114-e945-055fa958c21c"
      },
      "source": [
        "nH = 3\n",
        "nW = 5\n",
        "\n",
        "#array = np.arange(25).reshape(5,5)\n",
        "#array = np.arange(12).reshape(3,4)\n",
        "array = np.arange(15).reshape(3,5)\n",
        "sum = np.zeros_like(array)\n",
        "\n",
        "n_h_tail = nH - 1\n",
        "\n",
        "for n_h in range(nH):\n",
        "\n",
        "  if n_h > n_h_tail:\n",
        "\n",
        "    break\n",
        "\n",
        "  #get n_w tail\n",
        "  n_w_tail = nW - 1\n",
        "\n",
        "  for n_w in range(nW):\n",
        "    \n",
        "    if n_w > n_w_tail:\n",
        "\n",
        "      break\n",
        "\n",
        "    if (n_w == n_w_tail) or (n_h == n_h_tail): \n",
        "\n",
        "        if (n_h == n_h_tail) and (n_w == n_w_tail):\n",
        "\n",
        "          sum[n_h,n_w] = sum[n_h,n_w] + array[n_h,n_w]#sum[n_h,n_w] = sum[n_h,n_w]/2\n",
        "\n",
        "        else:\n",
        "\n",
        "          sum[n_h,n_w] = sum[n_h,n_w] + array[n_h,n_w]\n",
        "          sum[n_h_tail,n_w_tail] = sum[n_h_tail,n_w_tail] + array[n_h_tail,n_w_tail]\n",
        "\n",
        "    else:\n",
        "\n",
        "      #calculate head \n",
        "      sum[n_h,n_w] = sum[n_h,n_w] + array[n_h,n_w]\n",
        "\n",
        "      #calculate tail\n",
        "      sum[n_h_tail,n_w_tail] = sum[n_h_tail,n_w_tail] + array[n_h_tail,n_w_tail]\n",
        "\n",
        "      #calculate top left hand corner\n",
        "      sum[n_h_tail,n_w] = sum[n_h_tail,n_w] + array[n_h_tail,n_w]\n",
        "\n",
        "      #calculate botton left hand corner\n",
        "      sum[n_h,n_w_tail] = sum[n_h,n_w_tail] + array[n_h,n_w_tail]\n",
        "      \n",
        "    n_w_tail = n_w_tail - 1\n",
        "\n",
        "  n_h_tail = n_h_tail -1\n",
        "\n",
        "print(array)\n",
        "print(\"\\n\")\n",
        "print(sum)"
      ],
      "execution_count": 55,
      "outputs": [
        {
          "output_type": "stream",
          "text": [
            "[[ 0  1  2  3  4]\n",
            " [ 5  6  7  8  9]\n",
            " [10 11 12 13 14]]\n",
            "\n",
            "\n",
            "[[ 0  1  2  3  4]\n",
            " [ 5  6  7  8  9]\n",
            " [10 11 12 13 14]]\n"
          ],
          "name": "stdout"
        }
      ]
    }
  ]
}